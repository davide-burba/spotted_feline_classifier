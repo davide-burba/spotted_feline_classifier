{
 "cells": [
  {
   "cell_type": "code",
   "execution_count": 1,
   "metadata": {
    "colab": {},
    "colab_type": "code",
    "id": "jHotudiUQ1YA"
   },
   "outputs": [],
   "source": [
    "from fastai.vision import *\n",
    "from fastai.widgets import *"
   ]
  },
  {
   "cell_type": "markdown",
   "metadata": {
    "colab_type": "text",
    "id": "xjjAtwSKQ1YL"
   },
   "source": [
    "# Data Preparation\n",
    "## Download data\n",
    "\n",
    "I will take advantage of amazing fastai `ImageDownloader` widget for jupyter notebook \n",
    "\n",
    "**warning**: \n",
    "- does not work in jupyter lab or colab\n",
    "- I think it is not completely stable, it may be necessary to restart the kernel for each class"
   ]
  },
  {
   "cell_type": "code",
   "execution_count": 2,
   "metadata": {
    "colab": {},
    "colab_type": "code",
    "id": "_utrkzK5Q1YP"
   },
   "outputs": [],
   "source": [
    "path = './data' # where to store dowloaded data\n",
    "n_images=200 # how many images per class\n",
    "queries = ['cheetah acinonyx jubatus', 'leopard panthera pardus','jaguar panthera onca',\n",
    "           'animal -jaguar -cheetah -leopard'] \n",
    "labels = ['cheetah', 'leopard','jaguar','other']"
   ]
  },
  {
   "cell_type": "code",
   "execution_count": 3,
   "metadata": {
    "colab": {},
    "colab_type": "code",
    "id": "rViEZbORQ1YX"
   },
   "outputs": [],
   "source": [
    "os.makedirs(path, exist_ok=True)"
   ]
  },
  {
   "cell_type": "code",
   "execution_count": 4,
   "metadata": {
    "colab": {},
    "colab_type": "code",
    "id": "7RPRG_yLQ1Yh",
    "outputId": "89924edd-a94e-4cc3-a5e6-2e54d867c634"
   },
   "outputs": [
    {
     "data": {
      "application/vnd.jupyter.widget-view+json": {
       "model_id": "c957aeaa41094681bcdad84efdb19fb0",
       "version_major": 2,
       "version_minor": 0
      },
      "text/plain": [
       "VBox(children=(HBox(children=(Text(value='cheetah acinonyx jubatus', placeholder='What images to search for?')…"
      ]
     },
     "metadata": {},
     "output_type": "display_data"
    }
   ],
   "source": [
    "ImageDownloader(path)"
   ]
  },
  {
   "cell_type": "code",
   "execution_count": 5,
   "metadata": {
    "colab": {},
    "colab_type": "code",
    "id": "YVMxHb4lQ1Yw",
    "outputId": "111dbebe-a99e-4622-e86c-293494de7d0b"
   },
   "outputs": [
    {
     "data": {
      "application/vnd.jupyter.widget-view+json": {
       "model_id": "d98b9dd34c7e4ac5b654904bebcc1f51",
       "version_major": 2,
       "version_minor": 0
      },
      "text/plain": [
       "VBox(children=(HBox(children=(Text(value='leopard panthera pardus', placeholder='What images to search for?'),…"
      ]
     },
     "metadata": {},
     "output_type": "display_data"
    }
   ],
   "source": [
    "ImageDownloader(path)"
   ]
  },
  {
   "cell_type": "code",
   "execution_count": 6,
   "metadata": {
    "colab": {},
    "colab_type": "code",
    "id": "V-4-69jyQ1Y7",
    "outputId": "5e1f6f2b-4a80-46fa-a23a-9a696a871176",
    "scrolled": true
   },
   "outputs": [
    {
     "data": {
      "application/vnd.jupyter.widget-view+json": {
       "model_id": "0f0c3b9a43d246929650297f4c10d00b",
       "version_major": 2,
       "version_minor": 0
      },
      "text/plain": [
       "VBox(children=(HBox(children=(Text(value='jaguar panthera onca', placeholder='What images to search for?'), Bo…"
      ]
     },
     "metadata": {},
     "output_type": "display_data"
    }
   ],
   "source": [
    "ImageDownloader(path)"
   ]
  },
  {
   "cell_type": "code",
   "execution_count": 7,
   "metadata": {
    "colab": {},
    "colab_type": "code",
    "id": "1VoKXOgFLA-k",
    "outputId": "48dd4b12-5a55-46da-915f-4a949c0b4cfa"
   },
   "outputs": [
    {
     "data": {
      "application/vnd.jupyter.widget-view+json": {
       "model_id": "261c59f7e0f94b00a80c587e44fd2154",
       "version_major": 2,
       "version_minor": 0
      },
      "text/plain": [
       "VBox(children=(HBox(children=(Text(value='animal -jaguar -cheetah -leopard', placeholder='What images to searc…"
      ]
     },
     "metadata": {},
     "output_type": "display_data"
    }
   ],
   "source": [
    "ImageDownloader(path)"
   ]
  },
  {
   "cell_type": "code",
   "execution_count": 8,
   "metadata": {
    "colab": {},
    "colab_type": "code",
    "id": "Rw6pELqbQ1ZB",
    "outputId": "c202f0c9-e681-4236-8fb7-e3bffce94dba"
   },
   "outputs": [
    {
     "data": {
      "text/plain": [
       "['cheetah acinonyx jubatus',\n",
       " 'leopard panthera pardus',\n",
       " 'jaguar panthera onca',\n",
       " 'animal -jaguar -cheetah -leopard']"
      ]
     },
     "execution_count": 8,
     "metadata": {},
     "output_type": "execute_result"
    }
   ],
   "source": [
    "queries"
   ]
  },
  {
   "cell_type": "code",
   "execution_count": 0,
   "metadata": {
    "colab": {},
    "colab_type": "code",
    "id": "Fb5in6U8Q1ZH",
    "outputId": "4fd1599b-5167-4aa0-9da8-33107a4924ed"
   },
   "outputs": [
    {
     "name": "stdout",
     "output_type": "stream",
     "text": [
      "data/animal -jaguar -cheetah -leopard -> data/other\r\n"
     ]
    }
   ],
   "source": [
    "# let's rename directories\n",
    "! mv -v data/cheetah* data/cheetah\n",
    "! mv -v data/leopard* data/leopard\n",
    "! mv -v data/jaguar* data/jaguar\n",
    "! mv -v data/animal* data/other"
   ]
  },
  {
   "cell_type": "code",
   "execution_count": 0,
   "metadata": {
    "colab": {},
    "colab_type": "code",
    "id": "ZTguqbGlQ1a5"
   },
   "outputs": [],
   "source": []
  },
  {
   "cell_type": "code",
   "execution_count": 0,
   "metadata": {
    "colab": {},
    "colab_type": "code",
    "id": "NzNBB-RbQ1a6"
   },
   "outputs": [],
   "source": []
  },
  {
   "cell_type": "code",
   "execution_count": 0,
   "metadata": {
    "colab": {},
    "colab_type": "code",
    "id": "3asQqn6jQ1a7"
   },
   "outputs": [],
   "source": []
  }
 ],
 "metadata": {
  "accelerator": "GPU",
  "colab": {
   "collapsed_sections": [],
   "name": "feline_classifier.ipynb",
   "provenance": [],
   "version": "0.3.2"
  },
  "kernelspec": {
   "display_name": "Python 3",
   "language": "python",
   "name": "python3"
  },
  "language_info": {
   "codemirror_mode": {
    "name": "ipython",
    "version": 3
   },
   "file_extension": ".py",
   "mimetype": "text/x-python",
   "name": "python",
   "nbconvert_exporter": "python",
   "pygments_lexer": "ipython3",
   "version": "3.7.3"
  }
 },
 "nbformat": 4,
 "nbformat_minor": 1
}
